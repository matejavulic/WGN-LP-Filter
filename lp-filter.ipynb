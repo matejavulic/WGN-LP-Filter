{
 "cells": [
  {
   "cell_type": "code",
   "execution_count": 1,
   "metadata": {
    "collapsed": true
   },
   "outputs": [],
   "source": [
    "#Pre nego sto pocnemo da vidimo sta sve treba da uradimo:\n",
    "#1. Treba da ucitamo zvucnu datoteku\n",
    "#2. Treba da takav ucitani signal nacrtamo u vremenskom domenu\n",
    "#3. Treba da ga potom nacrtamo u frekvencijskom domenu\n",
    "#4. Potom da mu dodamo aditivni beli Gausov sum (ABGS)\n",
    "#5. I na kraju da ga filtriramo LP Batervortovim filtrom"
   ]
  },
  {
   "cell_type": "code",
   "execution_count": 2,
   "metadata": {
    "collapsed": true
   },
   "outputs": [],
   "source": [
    "#Ucitavamo biblioteku numpy\n",
    "#numpy je skracenica od numeric python a koristimo je za rad i manipulaciju sa nizovima\n",
    "import numpy as np"
   ]
  },
  {
   "cell_type": "code",
   "execution_count": 3,
   "metadata": {
    "collapsed": true
   },
   "outputs": [],
   "source": [
    "#Ucitavamo bibliotekus scipy\n",
    "#scipy je skracenica od scientific python a koristimo je kako bismo uvezli biblioteku sa funkcijama\n",
    "#za rad sa digitalnim filtrima\n",
    "import scipy as sp"
   ]
  },
  {
   "cell_type": "code",
   "execution_count": 4,
   "metadata": {
    "collapsed": true
   },
   "outputs": [],
   "source": [
    "#Iz biblioteke scipy uvozimo podbiblioteku signal\n",
    "#Ona sadrzi funkcije kojima radimo sa digitlanim filtrima\n",
    "from scipy import signal as sig"
   ]
  },
  {
   "cell_type": "code",
   "execution_count": 5,
   "metadata": {},
   "outputs": [],
   "source": [
    "#Uvozimo biblioteku za iscrtavanje i rad sa graficima\n",
    "import matplotlib.pyplot as plt\n",
    "#Naredba matplotlib kaze Pajtonu da automatski iscrtava grafike kada pozovemo funkciju za crtanje grafika\n",
    "%matplotlib inline"
   ]
  },
  {
   "cell_type": "code",
   "execution_count": 6,
   "metadata": {
    "collapsed": true
   },
   "outputs": [],
   "source": [
    "#Uvozimo biblioteku za rad sa .wav zvucnim zapisima\n",
    "#Ona sadrzi funkcije za citanje/pisanje zvucnih fajlova\n",
    "import soundfile as sf"
   ]
  },
  {
   "cell_type": "code",
   "execution_count": 7,
   "metadata": {
    "collapsed": true
   },
   "outputs": [],
   "source": [
    "#1. UCITAVANJE ZVUCNE BIBLIOTEKE"
   ]
  },
  {
   "cell_type": "code",
   "execution_count": 67,
   "metadata": {
    "collapsed": true
   },
   "outputs": [],
   "source": [
    "# Prvo treba da ucitamo nas .wav zvucni zapis\n",
    "\n",
    "#Da bismo to uradili koristimo funkciju sledeceg oblika:\n",
    "#amplitude, frekvencija_odabiranja = sf.read('putanja_na_racunaru_do_.wav_datoteke')\n",
    "#dakle funkcija sf.read('putanja_na...') nam vraca dva podatka:\n",
    "\n",
    "#amplitude (mi smo ga oznacili sa x):\n",
    "#Ovo je niz koji sadrzi amplitude zvucnog zapisa (u obliku brojeva)\n",
    "#Ovde treba paziti da ukoliko je .wav zvucni zapis dvokanalni (a u nasem slucaju je bas tako)\n",
    "#onda moramo da u kasnijoj obradi zvucnog zapisa odaberemo samo jedan kanal\n",
    "\n",
    "\n",
    "#frekvencija_odabiranja (mi smo je oznacili sa Fs (s je od sampling - odabiranje):\n",
    "#Ova informacija nam je jako vazna jer nam govori o tome sa kolikom frekvencijom\n",
    "#je izvrseno odabiranje naseg zvucnog zapisa\n",
    "#Uz pomoc ove informacije mozemo ispravno da iz odabiranog zvucnog zapisa\n",
    "#kasnije ponovo rekonstruisemo originalni analogni signal koji reprodukujemo\n",
    "#na zvucnicima.\n",
    "\n",
    "x, Fs = sf.read('C:\\WAV.wav')"
   ]
  },
  {
   "cell_type": "code",
   "execution_count": 68,
   "metadata": {},
   "outputs": [
    {
     "data": {
      "text/plain": [
       "array([[  9.15527344e-04,   1.49536133e-03],\n",
       "       [  8.54492188e-04,   1.58691406e-03],\n",
       "       [  9.15527344e-04,   1.55639648e-03],\n",
       "       ..., \n",
       "       [ -6.10351562e-05,  -3.05175781e-05],\n",
       "       [ -3.05175781e-05,   3.05175781e-05],\n",
       "       [ -3.05175781e-05,   3.05175781e-05]])"
      ]
     },
     "execution_count": 68,
     "metadata": {},
     "output_type": "execute_result"
    }
   ],
   "source": [
    "#Sada nas zanima sta je zapravo x. Malopre smo rekli da je u pitanju niz (array) i sledecom\n",
    "#naredbom se uveravamo da je zaista tako\n",
    "x"
   ]
  },
  {
   "cell_type": "code",
   "execution_count": 69,
   "metadata": {},
   "outputs": [
    {
     "data": {
      "text/plain": [
       "(242550, 2)"
      ]
     },
     "execution_count": 69,
     "metadata": {},
     "output_type": "execute_result"
    }
   ],
   "source": [
    "#Medjutim, rekli smo da moramo da pazimo da nam niz koji nam je funkcija sf.read('Putanja...') vratila\n",
    "#ne budu zapravo dva niza u okviru jednog (jedan niz za levi, i jedan niz za desni kanal zvucnog zapisa).\n",
    "#Da bismo proverili kako zaista izgleda x (tj. kog je oblika) koristimo sledecu naredbu:\n",
    "\n",
    "x.shape\n",
    "\n",
    "#Naredba x.shape nam vraca ovu informaciju:"
   ]
  },
  {
   "cell_type": "code",
   "execution_count": 11,
   "metadata": {
    "collapsed": true
   },
   "outputs": [],
   "source": [
    "#Sta nam ona kazuje? Kazuje nam da se niz x sastoji od dva niza (2) duzine (242550) elemenata.\n",
    "#Zakljucujemo da su u pitanju dva kanala bas kako smo i pretpostavili."
   ]
  },
  {
   "cell_type": "code",
   "execution_count": 12,
   "metadata": {},
   "outputs": [],
   "source": [
    "#Moramo da izdvojimo samo jedan kanal. Na primer, mi cemo da izdvojimo samo levi kanal.\n",
    "#To cinimo tako sto cemo da iskopiramo jedan od dva niza iz x i da ga upisemo u novi niz koji\n",
    "#cemo da nazovemo zvuk.\n",
    "#Da bismo ovo uradili koristimo sledecu naredbu:\n",
    "\n",
    "zvuk = x[:,0]\n",
    "\n",
    "#pisanjem x[:,0] cinimo dve stvari:\n",
    "#1. pisanjem znaka : kazujemo Pajtonu da odabere sve elemente niza\n",
    "#2. pisanjem 0 kazujemo Pajtonu da odabere prvi niz od dva koji su smesteni u x.\n",
    "\n",
    "#Da rezimiramo, Pajtonu kazmo ovo:\n",
    "#Uzmi prvi niz, selektuj sve njegove elemente i upisi ga u nov niz zvuk.\n",
    "#Da smo na primer umesto 0 napisali 1, tada bi Pajton uzeo sve elemente iz drugog niza od dva sadrzana u x i\n",
    "#iskopirao ga u nov niz zvuk."
   ]
  },
  {
   "cell_type": "code",
   "execution_count": 13,
   "metadata": {},
   "outputs": [
    {
     "data": {
      "text/plain": [
       "(242550,)"
      ]
     },
     "execution_count": 13,
     "metadata": {},
     "output_type": "execute_result"
    }
   ],
   "source": [
    "#Proveravamo da li smo odabrali samo prvi kanal:\n",
    "zvuk.shape"
   ]
  },
  {
   "cell_type": "code",
   "execution_count": 14,
   "metadata": {
    "collapsed": true
   },
   "outputs": [],
   "source": [
    "#2 ISCRTAVANJE ZVUCNOG SIGNALA U VREMENSKOM DOMENU"
   ]
  },
  {
   "cell_type": "code",
   "execution_count": 15,
   "metadata": {},
   "outputs": [],
   "source": [
    "#Posto smo uspeli da u nas niz zvuk iskopiramo samo levi kanal naseg zvucnog zapisa, sada \n",
    "#treba da napravimo vremensku osu.\n",
    "\n",
    "#Za to koristimo naredbu np.arange(duzina)\n",
    "#Ova naredba nam vraca niz brojeva koji se uvecavaju za +1 do vrednosti duzina.\n",
    "#Na primer, naredba np.arange(5) vraca:\n",
    "#array([0, 1, 2, 3, 4])\n",
    "\n",
    "#Posto mi treba da napravimo vremensku osu, ona mora da bude iste duzine kao i zvuk.\n",
    "#Pritom, vremensku osu delimo sa Fs i takvu je upisujemo u niz t.\n",
    "\n",
    "#OBJASNJENJE ZA DELJENJE SA FS:\n",
    "#Uzmimo da smo nas zvuk odabirali frekvencijom Fs = 2Hz (2 puta u sekundi). Neka nam se rezultat tog odabiranja nalazi\n",
    "#u nizu zvuk=[1, 2, 3, 4, 5, 6]. Dakle, na primer, ako je protekla 1s, sistem je dva puta uzeo odbirak naseg signala\n",
    "#i upisao ih u niz zvuk. Recimo za vreme t = 1s u niz zvuk upisane su dve vrednosti: 1 i 2. Od t = 1s do t = 2s u niz\n",
    "#zvuk su upisane vrednosti 3 i 4 itd. Mi sada u Pajtonu treba da napravimo vremensku osu t ali tako da svaka tacka u tom\n",
    "#nizu odgovara po jednoj odabiranoj vrednosti. Dakle zanima nas koja je bila vrednost vremena kada je uzet odbirak amplitude\n",
    "#1, pa vreme za 2, pa vreme za 3 i tako sve do kraja naseg niza zvuk. Posto znamo da sistem odabira dva puta u sekundi to \n",
    "#znaci npr. da je sistem u 1/2s uzorkovao i detektovao 1 i nju upisao u niz zvuk. U sledecih 1/2 sekunde je ponovo uzorkovao\n",
    "#i detektovao vrednost 2 koju je upisao u niz zvuk. Da bismo napravili nasu vremensku osu stoga treba prvo da napravimo\n",
    "#,,obicno`` vreme. Naredba np.arange(len(zvuk)) ce nam dati izlaz tj. niz [0, 1, 2, 3, 4, 5,..., 242549]. Posto su ovo vremenski \n",
    "#trenuci u kojima je vec dvaput izvrseno odabiranje (dva puta za 1 sekundu) to znaci da svaku od ovih tacaka treba da podelimo\n",
    "#sa 2 (tj. u opstem slucaju sa Fs). Stoga pisemo:\n",
    "\n",
    "t = np.arange(len(zvuk))/Fs\n",
    "\n",
    "#Ovde samo da napomenemo jos jednom vaznost odabira tacnog Fs (zapisano u samom zvusnom fajlu).\n",
    "#Za ovaj nas fajl je Fs = 44100Hz. Da smo, kojim slucajem, odabrali da nam Fs bude Fs = 22050Hz (dakle Fs/2)\n",
    "#tada, kada bi iscrtali ovaj signal u vremenskom domenu, umesto da traje 6 sekundi, snimak bi trajao 12 sekundi,\n",
    "#i imali bismo 50% sporiji signal (zvucni snimak bi isao 50% sporije od originalnog)."
   ]
  },
  {
   "cell_type": "code",
   "execution_count": 70,
   "metadata": {},
   "outputs": [
    {
     "data": {
      "text/plain": [
       "array([  0.00000000e+00,   2.26757370e-05,   4.53514739e-05, ...,\n",
       "         5.49993197e+00,   5.49995465e+00,   5.49997732e+00])"
      ]
     },
     "execution_count": 70,
     "metadata": {},
     "output_type": "execute_result"
    }
   ],
   "source": [
    "#Proveravamo da li smo zaista dobili niz:\n",
    "t"
   ]
  },
  {
   "cell_type": "code",
   "execution_count": 65,
   "metadata": {},
   "outputs": [
    {
     "data": {
      "text/plain": [
       "(242550,)"
      ]
     },
     "execution_count": 65,
     "metadata": {},
     "output_type": "execute_result"
    }
   ],
   "source": [
    "#Proveravamo da li smo uzeli samo jedan kanal od dva iz promenljive x:\n",
    "zvuk.shape"
   ]
  },
  {
   "cell_type": "code",
   "execution_count": 16,
   "metadata": {
    "collapsed": true
   },
   "outputs": [],
   "source": [
    "#Sada mozemo da nacrtamo signal u vremenskom domenu:"
   ]
  },
  {
   "cell_type": "code",
   "execution_count": 17,
   "metadata": {},
   "outputs": [
    {
     "data": {
      "image/png": "[encoded data removed]",
      "text/plain": [
       "<matplotlib.figure.Figure at 0x1cf5645f390>"
      ]
     },
     "metadata": {},
     "output_type": "display_data"
    }
   ],
   "source": [
    "plt.plot(t, zvuk) #iscrtavamo zvuk na vremenskoj osi t\n",
    "plt.grid() #ovom funkcijom iscrtavamo mrezu na grafiku\n",
    "plt.xlabel(\"Vreme (s)\") #ovom funkcijom ispisujemo naziv na x - osi\n",
    "plt.ylabel(\"Amplituda\") #ispisujemo naziv na y - osi\n",
    "plt.title(\"Originalni zvucni zapis\") #ispisujemo naslov grafika\n",
    "plt.show() #ovom funkcijom sklanjamo neke sistemeske parametre koje Pajton prvo ispise a tek potom iscrta grafik"
   ]
  },
  {
   "cell_type": "code",
   "execution_count": 18,
   "metadata": {
    "collapsed": true
   },
   "outputs": [],
   "source": [
    "#3. CRTANJE SIGNALA U FREKVENCIJSKOM DOMENU"
   ]
  },
  {
   "cell_type": "code",
   "execution_count": 19,
   "metadata": {},
   "outputs": [],
   "source": [
    "#Sledecom naredbom racunamo Furijeovu transformaciju nase promenlive zvuk.\n",
    "#U promenljivu zvuk_X smestamo kompleksne komponente koji u sebi sadrze informaciju \n",
    "#o frekvencijskoj karakteristici koja nas zanima i koju zelimo da iscrtamo.\n",
    "#Da bismo izracunali Furijeovu transformaciju signala zvuk koristimo sledecu naredbu:\n",
    "\n",
    "zvuk_X = sp.fft(zvuk)"
   ]
  },
  {
   "cell_type": "code",
   "execution_count": 20,
   "metadata": {},
   "outputs": [
    {
     "data": {
      "text/plain": [
       "array([-17.49066162+0.j        ,  -1.85225612+2.48612687j,\n",
       "        -4.76977827+7.55465075j, ...,  -6.14645201-7.61864798j,\n",
       "        -4.76977827-7.55465075j,  -1.85225612-2.48612687j])"
      ]
     },
     "execution_count": 20,
     "metadata": {},
     "output_type": "execute_result"
    }
   ],
   "source": [
    "#Da vidimo sada sta nam je funkcija sp.fft(zvuk) upisala u promenljivu zvuk_X:\n",
    "\n",
    "zvuk_X"
   ]
  },
  {
   "cell_type": "code",
   "execution_count": 21,
   "metadata": {
    "collapsed": true
   },
   "outputs": [],
   "source": [
    "#Vidimo da su u pitanju kompleksni brojevi. U svakom od ovih kompleksnih brojeva\n",
    "#krije se informacija o delu frekvencijske karakteristike naseg signala.\n",
    "#Iz teorije znamo da ako zelimo da odredimo amplitudsku karakteristiku signala\n",
    "#tada treba da izracunamo moduo svakog od ovih kompleksnih brojeva, i to da iscrtamo.\n",
    "\n",
    "#Medjutim, pre nego sto to ucinimo, hajde prvo da napravimo frekvencijsku osu.\n",
    "#Samo da se podsetimo, amplitudska frekvencijska karakteristika koju hocemo \n",
    "#da iscrtamo za nas signal zvuk predstavlja zavisnost pojacanja (kompleksnih komponenti)\n",
    "#od frekvencije."
   ]
  },
  {
   "cell_type": "code",
   "execution_count": 22,
   "metadata": {
    "collapsed": true
   },
   "outputs": [],
   "source": [
    "#Da bismo napravili frekvencijsku osu koristimo naredbu:\n",
    "# sp.linspace(pocetna_frekvencija,krajnja_frekvencija, broj_tacaka)\n",
    "\n",
    "#Npr. fja sp.linspace(0,1,10) dace nam sledeci niz:\n",
    "#array([ 0.,  0.111,  0.222,  0.333,  0.444, 0.555,  0.666,  0.777,  0.888,  1.])\n",
    "#Dakle dobili smo 10 tacaka na x - osi (kod nas ce to biti frekvencija) od 0 do 1 sa jednakim medjusobnim rastojanjima\n",
    "#(svaki sledeci broj se uvecava za jednak korak tj. za +0.111).\n",
    "\n",
    "#Mi cemo u nasoj naredbi da ,,pravimo`` tacke na nasoj x - osi (frekv.) od 0 do Fs jer je tolika frekvencija odabiranja Fs\n",
    "#(na primer ako smo neki signal odabirali sa 100Hz (100 puta u sekundi) ne ocekujemo da u odabiranom signalu\n",
    "#nadjemo neku frekvencijsku komponentu od npr. 200Hz). \n",
    "#Za broj tacaka na jednakim rasotjanjima uzimamo duzinu promenljive X_zvuk (jer u odnosu na nju crtamo grafik)\n",
    "#i dodajemo +1 da nam Pajton ne bi izbacivao gresku.\n",
    "\n",
    "F = sp.linspace(0, Fs, len(zvuk_X) + 1)"
   ]
  },
  {
   "cell_type": "code",
   "execution_count": 23,
   "metadata": {},
   "outputs": [],
   "source": [
    "#Ovom naredbom kazemo Pajtonu da iskopira ceo niz iz F sem poslednjeg elementa i upise ga ponovo u promenljivu F.\n",
    "#Ovo takodje pisemo da bismo izbegli da nam Pajton izbaci gresku.\n",
    "\n",
    "F = F[:-1]"
   ]
  },
  {
   "cell_type": "code",
   "execution_count": 24,
   "metadata": {},
   "outputs": [],
   "source": [
    "#Sada dolazimo do vaznog dela. Pre nego sto iscrtamo nasu amplitudsku frekvencijsku karakteristiku treba da \n",
    "#obratimo paznju na jednu stvar: amplitudska karakteristika, odnosno njeni kompleskni brojevi cije module crtamo\n",
    "#zbog same prirode Furijeove transformacije iscrtace nam preslikani spektar.\n",
    "#Neka nam je npr. dat signal ciju smo Furijeovu transformaciju izracunali i hocemo da iscrtamo njegovu \n",
    "#amplitudsku karakteristiku, pri cemu nam je najvisa frekvencija u tom signalu npr. 200Hz.\n",
    "#Kada bismo iscrtali njegovu frekvencijsku karakteristiku dobili bismo da je najvisa frekvencija 400Hz i imali bismo\n",
    "#,,preslikanu`` sliku u ogledalu. Ovo je posledica same definicije Furijeove transformacije i zato je UVEK isctavamo\n",
    "#do Fs/2! \n",
    "\n",
    "#Hajde sada to i ovde da ucinimo. Prvo cemo da vidimo koja nam je duzina nase promenljive sa Furijeovim kompleksnim komponentama:\n",
    "N = len(zvuk_X)\n",
    "\n",
    "#Sada iscrtavamo do N/2."
   ]
  },
  {
   "cell_type": "code",
   "execution_count": 74,
   "metadata": {},
   "outputs": [
    {
     "data": {
      "image/png": "[encoded data removed]",
      "text/plain": [
       "<matplotlib.figure.Figure at 0x1cf5647a550>"
      ]
     },
     "metadata": {},
     "output_type": "display_data"
    }
   ],
   "source": [
    "#Prvi argument nam je frekvencijska osa od 0 do N/2 (Fs/2), a drugi argument nam je moduo kompleksnih koeficijenata\n",
    "#Da bismo ga dobili koristimo sledecu funkciju:\n",
    "#sp.absolute(kompleksni_broj).\n",
    "\n",
    "#Na primer za kompleksni broj 1 + 2*j pomenuta funkcija vraca njegov moduo (koren iz kvadrata zbira realnog i imaginarnog dela)\n",
    "#Pisemo: sp.absolute(1 + 2j)\n",
    "#A dobijamo: 2.2360679774997898\n",
    "#Mozemo i rucno da proverimo: Re(1+2j) = 1 Im(1+2j) = 2\n",
    "#Moduo = kvadratni_koren(Im^2+Re^2) = kvadratni_koren(1^2 + 2^2) = kvadratni_koren(1 + 4) = kvadratni_koren(5) = 2,23\n",
    "\n",
    "plt.plot(F[0:round(N/2)], sp.absolute(zvuk_X[0:round(N/2)]))\n",
    "plt.title(\"Amplitudska frekv. karak. originalnog zvucnog zapisa\")\n",
    "plt.xlabel(\"Ucestanost (Hz)\")\n",
    "plt.ylabel(\"Kv. koren srednje snage\")\n",
    "plt.grid()\n",
    "plt.show()"
   ]
  },
  {
   "cell_type": "code",
   "execution_count": 26,
   "metadata": {
    "collapsed": true
   },
   "outputs": [],
   "source": [
    "#Ovim smo zavrsili 3. stavku. Pre nego sto predjemo na 4. pogledajmo ponovo gornji grafik.\n",
    "#Iz teorije znamo (Parsevalova teorema) da ako kvadriramo vrednost kompleksnih komponenti (kvadriramo nase\n",
    "# sp.absolute(zvuk_X[0:round(N/2)]) ) tada dobijamo srednju snagu singala. Ako je nacrtamo u zavisnosti od frekvencije\n",
    "#dobijamo grafik gustine srednje snage (raspodelu srednje snage signala) u odnosu na frekvenciju signala.\n",
    "#Drugim recima, opet bismo dobili isti grafik kao gore, pri cemu bi sada y - osa bila srednja snaga signala.\n",
    "#Zasto nam je ovo vazno? Vazno nam je jer na taj nacin mozemo da zakljucimo na kojim intervalima frekvencije\n",
    "#nam je sadrzana vecina snage signala, sto znaci zapravo gde nam je vecina korisnog signala smestena.\n",
    "#Ovo cemo kasnije da koristimo kako bismo znali odakle treba da filtiramo signal na taj nacin da zadrzimo\n",
    "#najveci moguci korisni deo signala.\n",
    "\n",
    "#Hajde sada da vidimo gde se nama u ovom nasem signalu nalazi vecina korisnih informacija (tj. gde nam je najveca\n",
    "# koncentracija srednje snage signala)."
   ]
  },
  {
   "cell_type": "code",
   "execution_count": 27,
   "metadata": {
    "collapsed": true
   },
   "outputs": [],
   "source": [
    "#Ako signal iscrtamo do njegovog 300000. dela dobijamo sledeci grafik: "
   ]
  },
  {
   "cell_type": "code",
   "execution_count": 72,
   "metadata": {},
   "outputs": [
    {
     "data": {
      "image/png": "[encoded data removed]",
      "text/plain": [
       "<matplotlib.figure.Figure at 0x1cf588e1160>"
      ]
     },
     "metadata": {},
     "output_type": "display_data"
    }
   ],
   "source": [
    "plt.plot(F[0:30000], sp.absolute(zvuk_X[0:30000]))\n",
    "plt.title(\"Deo amplitudske frekv. karakt. originalnog zvucnog zapisa\")\n",
    "plt.xlabel(\"Ucestanost (Hz)\")\n",
    "plt.ylabel(\"Kv. koren srednje snage\")\n",
    "plt.grid()\n",
    "plt.show()\n",
    "\n",
    "#Sa ovog grafika vidimo da nam je srednja snaga najvise skoncentrisana od 0 do 5Khz.\n",
    "#Ovo za sada ostavljamo ovako kako je, drzeci na umu da nam je vecina informacija sadrzana do 5KHz."
   ]
  },
  {
   "cell_type": "code",
   "execution_count": 29,
   "metadata": {},
   "outputs": [],
   "source": [
    "#Pre nego sto nastavimo dalje, hajde da sacuvamo nas originalni zvucni zapis.\n",
    "#To cinimo funkcijom sf.write('putanja_na_racunaru', niz_sa_amplitudama, frekvenicja_odabiranja)\n",
    "#Mi sve to imamo vec definisano gore tako da samo pisemo:\n",
    "\n",
    "sf.write(\"C:/Users/Mateja/Desktop/zvuk_original.wav\", zvuk, Fs)"
   ]
  },
  {
   "cell_type": "code",
   "execution_count": 30,
   "metadata": {},
   "outputs": [],
   "source": [
    "#4. DODAVANJE GAUSOVOG SUMA"
   ]
  },
  {
   "cell_type": "code",
   "execution_count": 31,
   "metadata": {
    "collapsed": true
   },
   "outputs": [],
   "source": [
    "#Sum koji ovde dodajemo na nas zvucni signal je aproksimacija realnog suma.\n",
    "#Naziva se BAGS ili Beli Aditivni Gausov Sum.\n",
    "#U sustini, generisemo slucajne brojeve (sa Gausovom raspodelom) koje zatim mnozimo sa nekim k\n",
    "#(njime definisemo amplitudu suma, koja ne sme buti veca od amplitude naseg zvucnog signala, inace necemo moci\n",
    "#to posle da isfiltriramo)."
   ]
  },
  {
   "cell_type": "code",
   "execution_count": 32,
   "metadata": {
    "collapsed": true
   },
   "outputs": [],
   "source": [
    "#Dakle k znamo sta je, sada da vidimo kako da definisemo slucajne brojeve:\n",
    "\n",
    "k = 0.03\n",
    "\n",
    "#Sledecom naredbom generisemo onoliko slucajnih brojeva koliko ima amplituda u nizu naseg zvuka.\n",
    "#Drugim recima, na celoj duzini naseg zvuka (vracamo se u vremenski domen!) jednostavno dodajemo (zato se zove aditivni) \n",
    "#slucajne brojeve:\n",
    "\n",
    "summ = k*np.random.randn(len(zvuk))\n",
    "zvuk_sum = zvuk + summ"
   ]
  },
  {
   "cell_type": "code",
   "execution_count": 33,
   "metadata": {
    "collapsed": true
   },
   "outputs": [],
   "source": [
    "#Sada cemo da iscrtamo zasumljen i originalan signal u vremenu, da bismo videli\n",
    "#sta se dogodilo:"
   ]
  },
  {
   "cell_type": "code",
   "execution_count": 34,
   "metadata": {},
   "outputs": [
    {
     "data": {
      "image/png": "[encoded data removed]",
      "text/plain": [
       "<matplotlib.figure.Figure at 0x1cf56e97550>"
      ]
     },
     "metadata": {},
     "output_type": "display_data"
    }
   ],
   "source": [
    "plt.plot(t, zvuk_sum, 'b')#Pajton crta plavom bojom zasumljen zvuk\n",
    "plt.plot(t, zvuk, 'g')#Preko njega, zelenom bojom crta originalni zvuk\n",
    "plt.grid()\n",
    "plt.xlabel(\"Vreme (s)\")\n",
    "plt.ylabel(\"Amplituda\")\n",
    "plt.title(\"Zasumljen i originalni zvucni zapis\")\n",
    "plt.show()\n",
    "\n",
    "#I dobijamo nas grafik. Tamno-plavom bojom prikazan je zasumljen signal, a zelenom originalni signal.\n",
    "#Vidimo da je signal zasumljen na celoj svojoj duzini."
   ]
  },
  {
   "cell_type": "code",
   "execution_count": 35,
   "metadata": {},
   "outputs": [],
   "source": [
    "#Zapisujemo zasumljen zvucni zapis:\n",
    "\n",
    "sf.write(\"C:/Users/Mateja/Desktop/zvuk_zasumljen.wav\", zvuk_sum, Fs)"
   ]
  },
  {
   "cell_type": "code",
   "execution_count": 36,
   "metadata": {
    "collapsed": true
   },
   "outputs": [],
   "source": [
    "#Sada treba da definisemo nas LP filtar. Ovaj filtar ima samo dva parametra:\n",
    "#fg - granicnu ucestanost (naziva se i ucestanost odsecanja - pojacanje 0 za f>fg)\n",
    "#red filtra - oznacava kompleksnost matematicke funkcije koja zapravo obavlja posao\n",
    "#filtiranja, za nas slucaj sasvim je dovoljno da uzmemo da filtar bude 5. reda.\n",
    "\n",
    "#Medjutim postavlja se ovo pitanje:\n",
    "#Koju vrednost treba da odaberemo za fg kako bismo sto bolje rekonstruisali nas originalni signal?\n",
    "#Iz teorije je poznato da se za frekvencijski spektar ABGS uzima interval od 0 do +beskonacno, sto drugim recima znaci da\n",
    "#ABGS ima frekvencijske komponente na svim ucestanostima. Kako mi koristimo jednostavan linearan filtar (linearan zbog \n",
    "#izgleda amplitudske karakteristike) jedino sto mi mozemo da uradimo jeste da nas zasumljeni signal od neke (fg) ucestanosti\n",
    "#,,odsecemo``. Medjutim, i u tom nasem delu koji smo propustili idalje postoji sum. Sta sad da radimo? Sum je, ovako jednostavnim\n",
    "#filtrom nemoguce u potpunosti eliminisati. Jednostavno, koji god frekvencijski opseg da izdvojimo iz naseg zasumljenog\n",
    "#signala imacemo prisutan i sum. Sada nam u pomoc priskace informacija o raspodeli srednje snage naseg signala. Posto znamo\n",
    "#da je vecina ,,korisnih`` informacija naseg signala sadrzana do 5KHz to znaci da negde u opsegu od 300Hz do 5Khz treba da \n",
    "#izvrsimo filtriranje. I u ovom opsegu ce naravno da postoji sum, ali ce biti dosta slabiji (uklonili smo mu vecinu njegovih\n",
    "#,,korisnih`` informacija (a to je nazalost ceo spektar od 0 do + beskonacno)) pa ce nas koristan signal doci do izrazaja.\n",
    "#Stoga, eksperimentalno utvrdjujemo da optimalne (prihvatljive) rezultate dobijamo za 3 granicne frekvenicije:\n",
    "#1500Hz, 3500Hz, i 5000Hz.\n",
    "#Dakle treba da napravimo tri LP filtra sa tri razlicite granicne frekvencije fg. Potom cemo tako ociscene zvucne zapise\n",
    "# sacuvati i na kraju reprodukovati i na taj nacin videti dobre i lose strane savake od ove tri granicne ucestanosti."
   ]
  },
  {
   "cell_type": "code",
   "execution_count": 37,
   "metadata": {
    "collapsed": true
   },
   "outputs": [],
   "source": [
    "#Definisemo 1,5 Khz LP filtar.\n",
    "#Granicne ucestanosti racunamo kao fg/(Fs/2)."
   ]
  },
  {
   "cell_type": "code",
   "execution_count": 38,
   "metadata": {
    "collapsed": true
   },
   "outputs": [],
   "source": [
    "fg15 = [1500 / (Fs/2)]"
   ]
  },
  {
   "cell_type": "code",
   "execution_count": 39,
   "metadata": {
    "collapsed": true
   },
   "outputs": [],
   "source": [
    "#Prvo moramo da izracunamo koeficijente naseg filtra za ovako definisane parametre (5. red, LP, fg = 1500Hz)\n",
    "#To cinimo sledecmo naredbom, koja nam vraca koeficijente b i a:\n",
    "\n",
    "b, a = sig.butter(5, fg15, \"lowpass\") \n",
    "\n",
    "#Sada naredbom sig.lfilter kojoj prosledjujemo parametre b i a, kao i sam signal koji treba da filtriramo\n",
    "#dobijamo nas prvi filtrirani signal:\n",
    "\n",
    "zvuk_fil_15 = sig.lfilter(b, a, zvuk_sum)"
   ]
  },
  {
   "cell_type": "code",
   "execution_count": 40,
   "metadata": {
    "collapsed": true
   },
   "outputs": [],
   "source": [
    "#Signal zatim pojacavamo 4 puta jer je signal oslabljen usled nesavrsenosti karakteristike filtra.\n",
    "#Ali pazimo da prevelikim pojacanjem signala ne izazovemo njegovu distorziju (izoblicenje):"
   ]
  },
  {
   "cell_type": "code",
   "execution_count": 41,
   "metadata": {
    "collapsed": true
   },
   "outputs": [],
   "source": [
    "zvuk_fil_15 = 4*zvuk_fil_15"
   ]
  },
  {
   "cell_type": "code",
   "execution_count": 42,
   "metadata": {
    "collapsed": true
   },
   "outputs": [],
   "source": [
    "#Crtamo amplitudsku karakteristiku ovog LP filtra:"
   ]
  },
  {
   "cell_type": "code",
   "execution_count": 43,
   "metadata": {},
   "outputs": [
    {
     "data": {
      "image/png": "[encoded data removed]",
      "text/plain": [
       "<matplotlib.figure.Figure at 0x1cf588dcc88>"
      ]
     },
     "metadata": {},
     "output_type": "display_data"
    }
   ],
   "source": [
    "#Ovo cinimo sledecom funkcijom:\n",
    "w, h = sig.freqz(b, a)\n",
    "#Ona ima dva parametra : w (ugaona ucestanost u kojoj nam je skrivena informacija o ucestanosti)\n",
    "#i h (pojacanje filtra - idealno 1, obratiti paznju ovo je kompleksni broj!)\n",
    "\n",
    "\n",
    "#Da bismo dobili frekvenciju iz ugaone ucestanosti koristimo se sledecom formulom koja vazi izmedju\n",
    "#kruzne ucestanosti i frekvencije:\n",
    "#w = 2*pi*f --> f = (0.5*w)/pi\n",
    "plt.plot((0.5*Fs / np.pi)*w, np.absolute(h))# koristimo np.absolute(h) kako bismo dobili moduo od h\n",
    "\n",
    "plt.grid()\n",
    "plt.title(\"Frekvencijska karakteristika 1,5KHz LP filtra\")\n",
    "plt.xlabel(\"Ucestanost (Hz)\")\n",
    "plt.ylabel(\"Pojacanje\")\n",
    "plt.show() \n",
    "#Dobijamo amplitudsku frekvencijsku karakteristiku LP filtra. Vidimo da on ima priblizno pojacanje 1 do 1500Hz a da\n",
    "#potom za f>1500Hz pojacanje signala brzo pada na 0. Idealan LP filtar bi imao strmu karakteristiku (za f>1500Hz karakteristika\n",
    "#bi trenutno ,,pala`` na nulu):"
   ]
  },
  {
   "cell_type": "code",
   "execution_count": 44,
   "metadata": {
    "collapsed": true
   },
   "outputs": [],
   "source": [
    "#Na kraju filtriran i pojacan signal cuvamo kao:\n",
    "sf.write(\"C:/Users/Mateja/Desktop/zvuk_filtriran15.wav\", zvuk_fil_15, Fs)"
   ]
  },
  {
   "cell_type": "code",
   "execution_count": 45,
   "metadata": {
    "collapsed": true
   },
   "outputs": [],
   "source": [
    "#Slede potpuno isto definisani LP filtri. Jedina razlika je u fg."
   ]
  },
  {
   "cell_type": "code",
   "execution_count": 46,
   "metadata": {
    "collapsed": true
   },
   "outputs": [],
   "source": [
    "#Definisemo 3,5 Khz LP filtar"
   ]
  },
  {
   "cell_type": "code",
   "execution_count": 47,
   "metadata": {
    "collapsed": true
   },
   "outputs": [],
   "source": [
    "fg35 = [3500/(Fs/2)]"
   ]
  },
  {
   "cell_type": "code",
   "execution_count": 48,
   "metadata": {},
   "outputs": [],
   "source": [
    "b, a = sig.butter(5, fg35, \"lowpass\") \n",
    "zvuk_fil_35 = sig.lfilter(b, a, zvuk_sum)"
   ]
  },
  {
   "cell_type": "code",
   "execution_count": 49,
   "metadata": {
    "collapsed": true
   },
   "outputs": [],
   "source": [
    "#Signal zatim pojacavamo 2.5 puta (pazimo da signal ne izoblicimo)."
   ]
  },
  {
   "cell_type": "code",
   "execution_count": 50,
   "metadata": {
    "collapsed": true
   },
   "outputs": [],
   "source": [
    "zvuk_fil_35 = 2.5*zvuk_fil_35"
   ]
  },
  {
   "cell_type": "code",
   "execution_count": 51,
   "metadata": {
    "collapsed": true
   },
   "outputs": [],
   "source": [
    "#Crtamo karakteristiku ovog LP filtra:"
   ]
  },
  {
   "cell_type": "code",
   "execution_count": 52,
   "metadata": {},
   "outputs": [
    {
     "data": {
      "image/png": "[encoded data removed]",
      "text/plain": [
       "<matplotlib.figure.Figure at 0x1cf58963b38>"
      ]
     },
     "metadata": {},
     "output_type": "display_data"
    }
   ],
   "source": [
    "w, h = sig.freqz(b, a)\n",
    "\n",
    "plt.plot((0.5*Fs / np.pi)*w, np.absolute(h))\n",
    "plt.grid()\n",
    "plt.title(\"Frekvencijska karakteristika 3,5KHz LP filtra\")\n",
    "plt.xlabel(\"Ucestanost (Hz)\")\n",
    "plt.ylabel(\"Pojacanje\")\n",
    "plt.show() "
   ]
  },
  {
   "cell_type": "code",
   "execution_count": 53,
   "metadata": {
    "collapsed": true
   },
   "outputs": [],
   "source": [
    "sf.write(\"C:/Users/Mateja/Desktop/zvuk_filtriran35.wav\", zvuk_fil_35, Fs)"
   ]
  },
  {
   "cell_type": "code",
   "execution_count": 54,
   "metadata": {
    "collapsed": true
   },
   "outputs": [],
   "source": [
    "#Definisemo 5 Khz LP filtar:"
   ]
  },
  {
   "cell_type": "code",
   "execution_count": 55,
   "metadata": {
    "collapsed": true
   },
   "outputs": [],
   "source": [
    "fg50 = [5000/(Fs/2)]"
   ]
  },
  {
   "cell_type": "code",
   "execution_count": 56,
   "metadata": {
    "collapsed": true
   },
   "outputs": [],
   "source": [
    "b,a=sig.butter(5, fg50, \"lowpass\") \n",
    "zvuk_fil_50 = sig.lfilter(b, a, zvuk_sum)"
   ]
  },
  {
   "cell_type": "code",
   "execution_count": 57,
   "metadata": {
    "collapsed": true
   },
   "outputs": [],
   "source": [
    "#Signal zatim pojacavamo 1.5 put (pazimo da ne izoblicimo signal):"
   ]
  },
  {
   "cell_type": "code",
   "execution_count": 58,
   "metadata": {
    "collapsed": true
   },
   "outputs": [],
   "source": [
    "zvuk_fil_50 = 1.5*zvuk_fil_50"
   ]
  },
  {
   "cell_type": "code",
   "execution_count": 59,
   "metadata": {
    "collapsed": true
   },
   "outputs": [],
   "source": [
    "#Crtamo karakteristiku ovog LP filtra:"
   ]
  },
  {
   "cell_type": "code",
   "execution_count": 60,
   "metadata": {},
   "outputs": [
    {
     "data": {
      "image/png": "[encoded data removed]",
      "text/plain": [
       "<matplotlib.figure.Figure at 0x1cf58a15860>"
      ]
     },
     "metadata": {},
     "output_type": "display_data"
    }
   ],
   "source": [
    "w, h = sig.freqz(b, a)\n",
    "\n",
    "plt.plot((Fs * 0.5 / np.pi)*w, np.absolute(h))\n",
    "plt.grid()\n",
    "plt.title(\"Frekvencijska karakteristika 5KHz LP filtra\")\n",
    "plt.xlabel(\"Ucestanost (Hz)\")\n",
    "plt.ylabel(\"Pojacanje\")\n",
    "plt.show()"
   ]
  },
  {
   "cell_type": "code",
   "execution_count": 61,
   "metadata": {
    "collapsed": true
   },
   "outputs": [],
   "source": [
    "sf.write(\"C:/Users/Mateja/Desktop/zvuk_filtriran50.wav\", zvuk_fil_50, Fs)"
   ]
  }
 ],
 "metadata": {
  "kernelspec": {
   "display_name": "Python 3",
   "language": "python",
   "name": "python3"
  },
  "language_info": {
   "codemirror_mode": {
    "name": "ipython",
    "version": 3
   },
   "file_extension": ".py",
   "mimetype": "text/x-python",
   "name": "python",
   "nbconvert_exporter": "python",
   "pygments_lexer": "ipython3",
   "version": "3.7.1"
  }
 },
 "nbformat": 4,
 "nbformat_minor": 2
}
